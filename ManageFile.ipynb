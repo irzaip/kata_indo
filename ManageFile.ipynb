{
 "cells": [
  {
   "cell_type": "code",
   "execution_count": 1,
   "metadata": {},
   "outputs": [],
   "source": [
    "import os, glob, re, sys"
   ]
  },
  {
   "cell_type": "code",
   "execution_count": 2,
   "metadata": {},
   "outputs": [],
   "source": [
    "f = open(\"full_indo_word.txt\",'r')\n",
    "inbox = f.readlines()"
   ]
  },
  {
   "cell_type": "code",
   "execution_count": 55,
   "metadata": {},
   "outputs": [],
   "source": [
    "indir1 = '.\\kata_SLO.5'\n",
    "indir2 = '.\\kata_mp3.1'\n",
    "outdir1 = '.\\kata_BAS.5'"
   ]
  },
  {
   "cell_type": "code",
   "execution_count": 56,
   "metadata": {},
   "outputs": [
    {
     "data": {
      "text/plain": [
       "71561"
      ]
     },
     "execution_count": 56,
     "metadata": {},
     "output_type": "execute_result"
    }
   ],
   "source": [
    "len(inbox)"
   ]
  },
  {
   "cell_type": "code",
   "execution_count": 57,
   "metadata": {},
   "outputs": [],
   "source": [
    "for idx, i in enumerate(inbox[60000:-1]):\n",
    "    ffn = i\n",
    "    ffn.replace(\"\\n\",\"\")\n",
    "    ffn = re.sub(r\"[^a-zA-Z]\",\"\",ffn)\n",
    "    ffx = os.path.join(indir1,ffn+\".mp3\")\n",
    "    fft = os.path.join(outdir1,ffn+\".mp3\")\n",
    "    if not os.path.isfile(ffx): \n",
    "        print(ffn,\"  TAK HADIR\")\n",
    "        #try:\n",
    "           # os.rename(ffx,fft)\n",
    "        #except:\n",
    "            #print(\"error moving\",ffx,fft)\n",
    "    \n"
   ]
  },
  {
   "cell_type": "code",
   "execution_count": null,
   "metadata": {},
   "outputs": [],
   "source": []
  },
  {
   "cell_type": "code",
   "execution_count": null,
   "metadata": {},
   "outputs": [],
   "source": []
  }
 ],
 "metadata": {
  "kernelspec": {
   "display_name": "Python 3",
   "language": "python",
   "name": "python3"
  },
  "language_info": {
   "codemirror_mode": {
    "name": "ipython",
    "version": 3
   },
   "file_extension": ".py",
   "mimetype": "text/x-python",
   "name": "python",
   "nbconvert_exporter": "python",
   "pygments_lexer": "ipython3",
   "version": "3.6.4"
  }
 },
 "nbformat": 4,
 "nbformat_minor": 2
}
